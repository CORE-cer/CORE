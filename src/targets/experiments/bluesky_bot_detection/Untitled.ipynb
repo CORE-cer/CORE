{
 "cells": [
  {
   "cell_type": "code",
   "execution_count": 5,
   "id": "421ca8f3-0feb-4761-93f8-ca57b2f799ef",
   "metadata": {},
   "outputs": [],
   "source": [
    "from commit import CommitWrapperEventModel\n",
    "import json\n",
    "import copy\n",
    "import datetime\n",
    "from collections import defaultdict\n",
    "from itertools import combinations\n",
    "from tqdm.notebook import tqdm\n",
    "import time"
   ]
  },
  {
   "cell_type": "code",
   "execution_count": 6,
   "id": "2e799d3a-737f-4971-9278-5089a8972939",
   "metadata": {},
   "outputs": [],
   "source": [
    "with open(\"bluesky_cached_models.json\") as f:\n",
    "    data = json.load(f)\n",
    "    models = []\n",
    "    for model in data:\n",
    "        model[\"commit\"][\"record\"][\"$type\"] = model[\"commit\"][\"record\"][\n",
    "            \"record_type\"\n",
    "        ]\n",
    "        del model[\"commit\"][\"record\"][\"record_type\"]\n",
    "        model = CommitWrapperEventModel.model_validate(model)\n",
    "        models.append(model)"
   ]
  },
  {
   "cell_type": "markdown",
   "id": "1247ba4c-5b40-4570-923b-f300145d6cbc",
   "metadata": {},
   "source": [
    "# Query 1"
   ]
  },
  {
   "cell_type": "markdown",
   "id": "707d05d9-3150-489d-b708-b16f6a18d73f",
   "metadata": {},
   "source": [
    "/*Detect Bot Accounts (3 posts in 10 seconds)*/\n",
    "\n",
    "SELECT *\n",
    "\n",
    "FROM Bluesky\n",
    "\n",
    "WHERE CreatePost ; CreatePost ; CreatePost\n",
    "\n",
    "PARTITION BY [did]\n",
    "\n",
    "WITHIN 10 SECONDS"
   ]
  },
  {
   "cell_type": "code",
   "execution_count": 7,
   "id": "351a75a8-7419-4bc9-856a-241e0864f4ae",
   "metadata": {},
   "outputs": [],
   "source": [
    "messages_by_did_in_window = defaultdict(list)"
   ]
  },
  {
   "cell_type": "code",
   "execution_count": 8,
   "id": "04e91a0b-aee3-4e9f-a8e7-82752a04b33c",
   "metadata": {},
   "outputs": [
    {
     "data": {
      "application/vnd.jupyter.widget-view+json": {
       "model_id": "0aeecd3a7adc42a0bc7820bd6ac62be0",
       "version_major": 2,
       "version_minor": 0
      },
      "text/plain": [
       "  0%|          | 0/20000 [00:00<?, ?it/s]"
      ]
     },
     "metadata": {},
     "output_type": "display_data"
    }
   ],
   "source": [
    "outputs = []\n",
    "\n",
    "assert sorted(models, key=lambda model: model.received_time) == models, [model.received_time.strftime(\"%Y-%m-%d %H:%M:%S\") for model in models]\n",
    "\n",
    "for model in tqdm(models):\n",
    "    time.sleep(0.001)\n",
    "    if model.commit.operation != \"create\":\n",
    "        continue\n",
    "    if model.commit.record.record_type != \"app.bsky.feed.post\":\n",
    "        continue\n",
    "    received_time = model.received_time\n",
    "    did = model.did\n",
    "    while len(messages_by_did_in_window[did]) != 0 and (received_time - messages_by_did_in_window[did][0].received_time) > datetime.timedelta(seconds=10):\n",
    "        messages_by_did_in_window[did].pop(0)\n",
    "            \n",
    "    messages_by_did_in_window[did].append(model)\n",
    "\n",
    "    assert sorted(messages_by_did_in_window[did], key=lambda model: model.received_time) == messages_by_did_in_window[did], [model.received_time.strftime(\"%Y-%m-%d %H:%M:%S\") for model in messages_by_did_in_window[did]]\n",
    "    \n",
    "    # output\n",
    "    if len(messages_by_did_in_window[did]) >= 3:\n",
    "        for comb in combinations(messages_by_did_in_window[did][:-1], 2):\n",
    "            output = [*comb, model]\n",
    "            assert (output[-1].received_time - output[0].received_time) <= datetime.timedelta(seconds=10), f\"{(output[-1].received_time - output[0].received_time)}\"\n",
    "            outputs.append(output)"
   ]
  },
  {
   "cell_type": "code",
   "execution_count": 9,
   "id": "60c8fe12-2b52-4e88-853a-31467650c614",
   "metadata": {},
   "outputs": [
    {
     "data": {
      "text/plain": [
       "[CommitWrapperEventModel(did='did:plc:7pjwjzhppos2ljh3pcpiqtfr', kind='commit', time_us=1760491450837014, commit=CommitEventModel(cid='bafyreibdijnb4cwfgyckd7tigozxsku7ispne4a332g4qh5iw7tsozpdvy', operation='create', record=PostRecordModel(record_type='app.bsky.feed.post', createdAt=datetime.datetime(2025, 10, 15, 1, 23, 57, 765000, tzinfo=TzInfo(UTC)), langs=['en'], text='Where am I posting my webcomic, you may ask?\\n\\nI got three major spots: Comic Fury, Bluesky, and Instagram.\\n\\nComic Fury will be the main home.\\n\\nI will also upload the comic on Newgrounds in batches.')), received_time=datetime.datetime(2025, 10, 15, 1, 24, 10, 917748, tzinfo=TzInfo(UTC))),\n",
       " CommitWrapperEventModel(did='did:plc:7pjwjzhppos2ljh3pcpiqtfr', kind='commit', time_us=1760491450837689, commit=CommitEventModel(cid='bafyreif57sove33mmrfzmmf575gommaufnhf4kctzfw7hyo5ay7b3l4qfa', operation='create', record=PostRecordModel(record_type='app.bsky.feed.post', createdAt=datetime.datetime(2025, 10, 15, 1, 23, 57, 766000, tzinfo=TzInfo(UTC)), langs=['en'], text='\"Any plans for monetizing the comic?\"\\n\\nYes, but I\\'m not too concerned about the money side of things. All that will occur much later on.')), received_time=datetime.datetime(2025, 10, 15, 1, 24, 10, 919681, tzinfo=TzInfo(UTC))),\n",
       " CommitWrapperEventModel(did='did:plc:7pjwjzhppos2ljh3pcpiqtfr', kind='commit', time_us=1760491450838929, commit=CommitEventModel(cid='bafyreiarzcoow7r44kylpkpr3inuijuslw57zn7wjr6gfthdh3huanvwpq', operation='create', record=PostRecordModel(record_type='app.bsky.feed.post', createdAt=datetime.datetime(2025, 10, 15, 1, 23, 57, 767000, tzinfo=TzInfo(UTC)), langs=['en'], text='\"What\\'s going on with Red Riding Wolf?\"\\n\\nThe story of Abigail is quite the ambitious one, so I\\'ll hold off on it for now.\\n\\nThe cute, but dangerous wolf lady will hang with the cast of the upcoming comic.')), received_time=datetime.datetime(2025, 10, 15, 1, 24, 10, 919995, tzinfo=TzInfo(UTC)))]"
      ]
     },
     "execution_count": 9,
     "metadata": {},
     "output_type": "execute_result"
    }
   ],
   "source": [
    "outputs[0]"
   ]
  },
  {
   "cell_type": "code",
   "execution_count": null,
   "id": "6b5df080-29dd-4469-96fb-64cace0a94e7",
   "metadata": {},
   "outputs": [],
   "source": []
  }
 ],
 "metadata": {
  "kernelspec": {
   "display_name": "Python 3 (ipykernel)",
   "language": "python",
   "name": "python3"
  },
  "language_info": {
   "codemirror_mode": {
    "name": "ipython",
    "version": 3
   },
   "file_extension": ".py",
   "mimetype": "text/x-python",
   "name": "python",
   "nbconvert_exporter": "python",
   "pygments_lexer": "ipython3",
   "version": "3.13.7"
  }
 },
 "nbformat": 4,
 "nbformat_minor": 5
}
