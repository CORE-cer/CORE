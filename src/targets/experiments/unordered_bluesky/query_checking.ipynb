{
 "cells": [
  {
   "cell_type": "code",
   "execution_count": 140,
   "id": "421ca8f3-0feb-4761-93f8-ca57b2f799ef",
   "metadata": {},
   "outputs": [],
   "source": [
    "from commit import CommitWrapperEventModel, PostRecordModel, FollowRecordModel, LikeRecordModel, RepostRecordModel\n",
    "from pydantic import BaseModel, Field\n",
    "import json\n",
    "import copy\n",
    "import datetime\n",
    "from collections import defaultdict\n",
    "from itertools import combinations\n",
    "from tqdm.notebook import tqdm\n",
    "import time\n",
    "from typing import List, Any"
   ]
  },
  {
   "cell_type": "code",
   "execution_count": 141,
   "id": "99a90e4d-1a59-49fb-9523-736c39229bb2",
   "metadata": {},
   "outputs": [],
   "source": [
    "def transform_events(events: List[CommitWrapperEventModel]) -> List[dict]:\n",
    "    \"\"\"\n",
    "    Transforms a list of CommitWrapperEventModel objects into a list of\n",
    "    flat dictionaries based on the specified CREATE STREAM schema.\n",
    "    \"\"\"\n",
    "    output_list = []\n",
    "    for event in events:\n",
    "        # 1. Get the record and event time\n",
    "        record = event.commit.record\n",
    "        \n",
    "        # Convert microsecond timestamp to a datetime object\n",
    "        commit_time_dt = datetime.datetime.fromtimestamp(\n",
    "            event.time_us / 1_000_000, tz=datetime.timezone.utc\n",
    "        )\n",
    "\n",
    "        # 2. Create the base dictionary common to all event types\n",
    "        base_dict = {\n",
    "            \"did\": event.did,\n",
    "            \"kind\": event.kind,\n",
    "            \"time\": int(record.createdAt.timestamp() * 1e9),  # This is the primary_time\n",
    "            \"time_str\": record.createdAt.__str__(), # Converted from time_us\n",
    "            \"cid\": event.commit.cid,\n",
    "            \"operation\": event.commit.operation,\n",
    "            \"record_type\": record.record_type,\n",
    "        }\n",
    "\n",
    "        # 3. Add specific fields based on the record type\n",
    "        record_specific_dict = {}\n",
    "        event_type = \"UNKNOWN\"\n",
    "        if record.record_type == \"app.bsky.feed.post\":\n",
    "            # Ensure type checker knows this is a PostRecordModel\n",
    "            event_type = \"CreatePost\"\n",
    "            assert isinstance(record, PostRecordModel) \n",
    "            record_specific_dict = {\n",
    "                \"langs\": record.langs,\n",
    "                \"text\": record.text + '.',\n",
    "            }\n",
    "        elif record.record_type == \"app.bsky.graph.follow\":\n",
    "            assert isinstance(record, FollowRecordModel)\n",
    "            event_type = \"CreateFollow\"\n",
    "            record_specific_dict = {\n",
    "                \"subject\": record.subject,\n",
    "            }\n",
    "        elif record.record_type == \"app.bsky.feed.like\":\n",
    "            assert isinstance(record, LikeRecordModel)\n",
    "            event_type = \"CreateLike\"\n",
    "            record_specific_dict = {\n",
    "                \"subject_cid\": record.subject.cid,\n",
    "                \"subject_uri\": record.subject.uri,\n",
    "            }\n",
    "        elif record.record_type == \"app.bsky.feed.repost\":\n",
    "            assert isinstance(record, RepostRecordModel)\n",
    "            event_type = \"CreateRepost\"\n",
    "            record_specific_dict = {\n",
    "                \"subject_cid\": record.subject.cid,\n",
    "                \"subject_uri\": record.subject.uri,\n",
    "            }\n",
    "        else:\n",
    "            # Skip any unknown record types\n",
    "            continue\n",
    "            \n",
    "        # 4. Combine base and specific dicts and add to list\n",
    "        # Using {**a, **b} for compatibility (Python 3.5+)\n",
    "        final_dict = {\"event_type\": event_type, **base_dict, **record_specific_dict}\n",
    "        output_list.append(final_dict)\n",
    "\n",
    "    return output_list"
   ]
  },
  {
   "cell_type": "code",
   "execution_count": 142,
   "id": "2e799d3a-737f-4971-9278-5089a8972939",
   "metadata": {},
   "outputs": [],
   "source": [
    "with open(\"bluesky_cached_models.json\") as f:\n",
    "    data = json.load(f)\n",
    "    models = []\n",
    "    for model in data:\n",
    "        model[\"commit\"][\"record\"][\"$type\"] = model[\"commit\"][\"record\"][\n",
    "            \"record_type\"\n",
    "        ]\n",
    "        del model[\"commit\"][\"record\"][\"record_type\"]\n",
    "        model = CommitWrapperEventModel.model_validate(model)\n",
    "        if model.commit.record.record_type == \"app.bsky.feed.post\":\n",
    "            model.commit.record.langs = ' '.join(model.commit.record.langs)\n",
    "            model.commit.record.text = model.commit.record.text.replace(',', '')\n",
    "            model.commit.record.text = model.commit.record.text.replace('\\n', '')\n",
    "            model.commit.record.text = model.commit.record.text.strip()\n",
    "        # if model.did != 'did:plc:7pjwjzhppos2ljh3pcpiqtfr':\n",
    "        #     continue\n",
    "        models.append(model)"
   ]
  },
  {
   "cell_type": "code",
   "execution_count": 143,
   "id": "77fc52aa-73bc-4fb3-b5d4-f76d2dbb9be4",
   "metadata": {},
   "outputs": [],
   "source": [
    "ordered_primary_time_models = sorted(models, key=lambda model: model.commit.record.createdAt)\n",
    "ordered_received_models = sorted(models, key=lambda model: model.received_time)"
   ]
  },
  {
   "cell_type": "code",
   "execution_count": 144,
   "id": "867ab936-ac55-43a8-90bb-a24b22de0a0b",
   "metadata": {},
   "outputs": [],
   "source": [
    "transformed_models = transform_events(ordered_primary_time_models)\n",
    "\n",
    "time = models[0].received_time\n",
    "with open('bluesky_ordered.corecsv', 'w', newline='') as f:\n",
    "    f.write('asdasd\\n')\n",
    "    for idx, model in enumerate(transformed_models):\n",
    "        next_time = models[idx].received_time\n",
    "        if time > next_time:\n",
    "            time_diff_nanoseconds = 0\n",
    "        else:\n",
    "            time_diff_nanoseconds = (next_time - time).microseconds\n",
    "        # f.write(f\"{str(time_diff_nanoseconds  * 1000)}\\n\")\n",
    "        vals = [str(val) for val in model.values()]\n",
    "        vals = ','.join(vals)\n",
    "        f.write(f\"{vals}\\n\")\n",
    "        time = next_time"
   ]
  },
  {
   "cell_type": "code",
   "execution_count": 145,
   "id": "1263cfee-86f9-42e3-99a6-31e06155d4fc",
   "metadata": {
    "scrolled": true
   },
   "outputs": [],
   "source": [
    "transformed_models = transform_events(ordered_received_models)\n",
    "\n",
    "time = models[0].received_time\n",
    "with open('bluesky_unordered.corecsv', 'w', newline='') as f:\n",
    "    f.write('asdasd\\n')\n",
    "    for idx, model in enumerate(transformed_models):\n",
    "        next_time = models[idx].received_time\n",
    "        if time > next_time:\n",
    "            time_diff_nanoseconds = 0\n",
    "        else:\n",
    "            time_diff_nanoseconds = (next_time - time).microseconds\n",
    "        f.write(f\"{str(time_diff_nanoseconds  * 1000)}\\n\")\n",
    "        vals = [str(val) for val in model.values()]\n",
    "        vals = ','.join(vals)\n",
    "        f.write(f\"{vals}\\n\")\n",
    "        time = next_time"
   ]
  },
  {
   "cell_type": "markdown",
   "id": "1247ba4c-5b40-4570-923b-f300145d6cbc",
   "metadata": {},
   "source": [
    "# Query 1"
   ]
  },
  {
   "cell_type": "markdown",
   "id": "707d05d9-3150-489d-b708-b16f6a18d73f",
   "metadata": {},
   "source": [
    "/*Detect Bot Accounts (3 posts in 10 seconds)*/\n",
    "\n",
    "SELECT *\n",
    "\n",
    "FROM Bluesky\n",
    "\n",
    "WHERE CreatePost ; CreatePost ; CreatePost\n",
    "\n",
    "PARTITION BY [did]\n",
    "\n",
    "WITHIN 10 SECONDS"
   ]
  },
  {
   "cell_type": "code",
   "execution_count": 240,
   "id": "04e91a0b-aee3-4e9f-a8e7-82752a04b33c",
   "metadata": {},
   "outputs": [
    {
     "data": {
      "application/vnd.jupyter.widget-view+json": {
       "model_id": "27faddab87c549dfb4c30f5405d8a18c",
       "version_major": 2,
       "version_minor": 0
      },
      "text/plain": [
       "  0%|          | 0/20000 [00:00<?, ?it/s]"
      ]
     },
     "metadata": {},
     "output_type": "display_data"
    }
   ],
   "source": [
    "messages_by_did_in_window = defaultdict(list)\n",
    "outputs = []\n",
    "\n",
    "assert sorted(ordered_primary_time_models, key=lambda model: model.commit.record.createdAt) == ordered_primary_time_models, [model.commit.record.createdAt.strftime(\"%Y-%m-%d %H:%M:%S\") for model in models]\n",
    "\n",
    "for model in tqdm(ordered_primary_time_models):\n",
    "    # time.sleep(0.001)\n",
    "    if model.commit.operation != \"create\":\n",
    "        continue\n",
    "    if model.commit.record.record_type != \"app.bsky.feed.post\":\n",
    "        continue\n",
    "    primary_time = model.commit.record.createdAt\n",
    "    did = model.did\n",
    "    while len(messages_by_did_in_window[did]) != 0 and (primary_time - messages_by_did_in_window[did][0].commit.record.createdAt) > datetime.timedelta(seconds=10):\n",
    "        messages_by_did_in_window[did].pop(0)\n",
    "            \n",
    "    messages_by_did_in_window[did].append(model)\n",
    "\n",
    "    assert sorted(messages_by_did_in_window[did], key=lambda model: model.commit.record.createdAt) == messages_by_did_in_window[did], [model.commit.record.createdAt.strftime(\"%Y-%m-%d %H:%M:%S\") for model in messages_by_did_in_window[did]]\n",
    "    \n",
    "    # output\n",
    "    if len(messages_by_did_in_window[did]) >= 3:\n",
    "        valid = messages_by_did_in_window[did][:-1][::-1]\n",
    "        for comb in combinations(valid, 2):\n",
    "            output = [*comb, model]\n",
    "            assert (output[-1].commit.record.createdAt - output[0].commit.record.createdAt) <= datetime.timedelta(seconds=10), f\"{(output[-1].commit.record.createdAt - output[0].commit.record.createdAt)}\"\n",
    "            outputs.append(output)\n",
    "                          \n",
    "                          \n",
    "    # if len(outputs) >= 10:\n",
    "    #     break"
   ]
  },
  {
   "cell_type": "code",
   "execution_count": 241,
   "id": "60c8fe12-2b52-4e88-853a-31467650c614",
   "metadata": {},
   "outputs": [
    {
     "data": {
      "text/plain": [
       "3963"
      ]
     },
     "execution_count": 241,
     "metadata": {},
     "output_type": "execute_result"
    }
   ],
   "source": [
    "len(outputs)"
   ]
  },
  {
   "cell_type": "code",
   "execution_count": 242,
   "id": "1a7ba167-555a-4cd8-972f-aa2db324a49c",
   "metadata": {},
   "outputs": [],
   "source": [
    "for output in outputs:\n",
    "    m1, m2, m3 = output\n",
    "    assert m3.received_time - m1.received_time <= datetime.timedelta(seconds=10)\n",
    "    assert m1.did == m2.did == m3.did"
   ]
  },
  {
   "cell_type": "markdown",
   "id": "c31e6441-509a-42c4-abc2-1e2a3262b87a",
   "metadata": {},
   "source": [
    "# Quarantine"
   ]
  },
  {
   "cell_type": "code",
   "execution_count": 243,
   "id": "b9385b50-05d7-47ce-b72b-2d157b0611cf",
   "metadata": {},
   "outputs": [],
   "source": [
    "drop_ids = []\n",
    "not_drop_ids = [] \n",
    "with open('../../../../logs/logfile_20251029_152154.log', 'r') as f:\n",
    "    for line in f.read().splitlines():\n",
    "        if \"Not dropping event\" in line:\n",
    "            event_num = line.split()[-1]\n",
    "            not_drop_ids.append(int(event_num))\n",
    "        if \"Dropping event\" in line:\n",
    "            event_num = line.split()[-1]\n",
    "            drop_ids.append(int(event_num))"
   ]
  },
  {
   "cell_type": "code",
   "execution_count": 244,
   "id": "bc259558-2f9a-4f54-ac1a-588b7d1a2a85",
   "metadata": {},
   "outputs": [
    {
     "name": "stdout",
     "output_type": "stream",
     "text": [
      "436 18564\n"
     ]
    }
   ],
   "source": [
    "print(len(drop_ids), len(not_drop_ids))"
   ]
  },
  {
   "cell_type": "code",
   "execution_count": 245,
   "id": "f1d8030e-1fd8-4f02-97c1-541e8f4d4eae",
   "metadata": {},
   "outputs": [],
   "source": [
    "assert len(set(drop_ids) & set(not_drop_ids)) == 0\n",
    "drop_ids.extend(range(0, 1000))\n",
    "assert len(drop_ids) + len(not_drop_ids) == len(ordered_received_models)"
   ]
  },
  {
   "cell_type": "code",
   "execution_count": 246,
   "id": "b37d630c-82e2-40a2-be3e-56b526ba73b3",
   "metadata": {},
   "outputs": [],
   "source": [
    "ordered_received_models_with_quarantine = [model for c, model in enumerate(ordered_received_models) if c in not_drop_ids]"
   ]
  },
  {
   "cell_type": "code",
   "execution_count": 247,
   "id": "7d640acb-4586-4891-9c49-da349f068078",
   "metadata": {},
   "outputs": [],
   "source": [
    "ordered_primary_time_models_with_quarantine = sorted(ordered_received_models_with_quarantine, key=lambda model: (model.commit.record.createdAt, model.received_time))"
   ]
  },
  {
   "cell_type": "markdown",
   "id": "d9e3306d-4fbb-4700-a3ea-10f28990dceb",
   "metadata": {},
   "source": [
    "# Quarantined Query 1 (10 second bounded wait)"
   ]
  },
  {
   "cell_type": "markdown",
   "id": "8a11cb5b-6d3b-4bc8-85ed-edbcaa7ed84f",
   "metadata": {},
   "source": [
    "/*Detect Bot Accounts (3 posts in 10 seconds)*/\n",
    "\n",
    "SELECT *\n",
    "\n",
    "FROM Bluesky\n",
    "\n",
    "WHERE CreatePost ; CreatePost ; CreatePost\n",
    "\n",
    "PARTITION BY [did]\n",
    "\n",
    "WITHIN 10 SECONDS"
   ]
  },
  {
   "cell_type": "code",
   "execution_count": 248,
   "id": "59ff7b8e-2a7f-4331-9133-2687648f2966",
   "metadata": {},
   "outputs": [
    {
     "data": {
      "application/vnd.jupyter.widget-view+json": {
       "model_id": "ed8b55b21ba7409ca3ab6679a821eff8",
       "version_major": 2,
       "version_minor": 0
      },
      "text/plain": [
       "  0%|          | 0/18564 [00:00<?, ?it/s]"
      ]
     },
     "metadata": {},
     "output_type": "display_data"
    }
   ],
   "source": [
    "messages_by_did_in_window = defaultdict(list)\n",
    "outputs = []\n",
    "\n",
    "assert sorted(ordered_primary_time_models_with_quarantine, key=lambda model: model.commit.record.createdAt) == ordered_primary_time_models_with_quarantine, [model.commit.record.createdAt.strftime(\"%Y-%m-%d %H:%M:%S\") for model in ordered_primary_time_models_with_quarantine]\n",
    "\n",
    "for model in tqdm(ordered_primary_time_models_with_quarantine):\n",
    "    # time.sleep(0.001)\n",
    "    if model.commit.operation != \"create\":\n",
    "        continue\n",
    "    if model.commit.record.record_type != \"app.bsky.feed.post\":\n",
    "        continue\n",
    "    primary_time = model.commit.record.createdAt\n",
    "    did = model.did\n",
    "    while len(messages_by_did_in_window[did]) != 0 and (primary_time - messages_by_did_in_window[did][0].commit.record.createdAt) > datetime.timedelta(seconds=10):\n",
    "        messages_by_did_in_window[did].pop(0)\n",
    "            \n",
    "    messages_by_did_in_window[did].append(model)\n",
    "\n",
    "    assert sorted(messages_by_did_in_window[did], key=lambda model: model.commit.record.createdAt) == messages_by_did_in_window[did], [model.commit.record.createdAt.strftime(\"%Y-%m-%d %H:%M:%S\") for model in messages_by_did_in_window[did]]\n",
    "    \n",
    "    # output\n",
    "    if len(messages_by_did_in_window[did]) >= 3:\n",
    "        valid = messages_by_did_in_window[did][:-1][::-1]\n",
    "        for comb in combinations(valid, 2):\n",
    "            output = [*comb, model]\n",
    "            assert (output[-1].commit.record.createdAt - output[0].commit.record.createdAt) <= datetime.timedelta(seconds=10), f\"{(output[-1].commit.record.createdAt - output[0].commit.record.createdAt)}\"\n",
    "            outputs.append(output)\n",
    "                          \n",
    "                          \n",
    "    # if len(outputs) >= 10:\n",
    "    #     break"
   ]
  },
  {
   "cell_type": "code",
   "execution_count": 249,
   "id": "540a112c-aae7-44be-912e-c7696dc52062",
   "metadata": {},
   "outputs": [
    {
     "data": {
      "text/plain": [
       "168"
      ]
     },
     "execution_count": 249,
     "metadata": {},
     "output_type": "execute_result"
    }
   ],
   "source": [
    "len(outputs)"
   ]
  },
  {
   "cell_type": "code",
   "execution_count": 250,
   "id": "220e218f-abfc-43d9-9506-a55be8576e06",
   "metadata": {},
   "outputs": [],
   "source": [
    "for output in outputs:\n",
    "    m1, m2, m3 = output\n",
    "    assert m3.commit.record.createdAt - m1.commit.record.createdAt <= datetime.timedelta(seconds=10)\n",
    "    assert m1.did == m2.did == m3.did"
   ]
  },
  {
   "cell_type": "code",
   "execution_count": 251,
   "id": "f2e8638e-7669-4edd-9d1d-7eb72e15a72a",
   "metadata": {},
   "outputs": [],
   "source": [
    "other_outs = []\n",
    "with open('../../../../out.txt', 'r') as f:\n",
    "    other_outs = f.read().splitlines()"
   ]
  },
  {
   "cell_type": "code",
   "execution_count": 252,
   "id": "e2a77529-5ba3-48ca-9cee-b4bae4e84617",
   "metadata": {},
   "outputs": [
    {
     "data": {
      "text/plain": [
       "168"
      ]
     },
     "execution_count": 252,
     "metadata": {},
     "output_type": "execute_result"
    }
   ],
   "source": [
    "other_outs = other_outs[7:]\n",
    "len(other_outs)"
   ]
  },
  {
   "cell_type": "markdown",
   "id": "7c59c503-cd15-4e88-8b5e-be0ee30c3774",
   "metadata": {},
   "source": [
    "# Quarantined Query 2 (10 second bounded wait)"
   ]
  },
  {
   "cell_type": "markdown",
   "id": "ad1d12e9-be21-4d6f-a130-106a9171e49c",
   "metadata": {},
   "source": [
    "/*Detect Bot Accounts (3 posts in 10 seconds)*/\n",
    "\n",
    "SELECT *\n",
    "\n",
    "FROM Bluesky\n",
    "\n",
    "WHERE CreatePost : CreatePost : CreatePost\n",
    "\n",
    "PARTITION BY [did]\n",
    "\n",
    "WITHIN 10 SECONDS"
   ]
  },
  {
   "cell_type": "code",
   "execution_count": 222,
   "id": "2dcea756-a40e-49b1-bf91-e24383384c3c",
   "metadata": {},
   "outputs": [
    {
     "data": {
      "application/vnd.jupyter.widget-view+json": {
       "model_id": "e853a1b73f154bd7b3b54b896c171bb4",
       "version_major": 2,
       "version_minor": 0
      },
      "text/plain": [
       "  0%|          | 0/18564 [00:00<?, ?it/s]"
      ]
     },
     "metadata": {},
     "output_type": "display_data"
    }
   ],
   "source": [
    "messages_by_did_in_window = defaultdict(list)\n",
    "outputs = []\n",
    "\n",
    "assert sorted(ordered_primary_time_models_with_quarantine, key=lambda model: model.commit.record.createdAt) == ordered_primary_time_models_with_quarantine, [model.commit.record.createdAt.strftime(\"%Y-%m-%d %H:%M:%S\") for model in ordered_primary_time_models_with_quarantine]\n",
    "\n",
    "for model in tqdm(ordered_primary_time_models_with_quarantine):\n",
    "    # time.sleep(0.001)\n",
    "    if model.commit.operation != \"create\":\n",
    "        continue\n",
    "    if model.commit.record.record_type != \"app.bsky.feed.post\":\n",
    "        continue\n",
    "    primary_time = model.commit.record.createdAt\n",
    "    did = model.did\n",
    "    while len(messages_by_did_in_window[did]) != 0 and (primary_time - messages_by_did_in_window[did][0].commit.record.createdAt) > datetime.timedelta(seconds=10):\n",
    "        messages_by_did_in_window[did].pop(0)\n",
    "            \n",
    "    messages_by_did_in_window[did].append(model)\n",
    "\n",
    "    assert sorted(messages_by_did_in_window[did], key=lambda model: model.commit.record.createdAt) == messages_by_did_in_window[did], [model.commit.record.createdAt.strftime(\"%Y-%m-%d %H:%M:%S\") for model in messages_by_did_in_window[did]]\n",
    "    \n",
    "    # output\n",
    "    if len(messages_by_did_in_window[did]) >= 3:\n",
    "        valid = messages_by_did_in_window[did][:-1][::-1]\n",
    "        for comb in combinations(valid, 2):\n",
    "            output = [*comb, model]\n",
    "            assert (output[-1].commit.record.createdAt - output[0].commit.record.createdAt) <= datetime.timedelta(seconds=10), f\"{(output[-1].commit.record.createdAt - output[0].commit.record.createdAt)}\"\n",
    "            idxs = list(map(lambda messsage: messages_by_did_in_window[did].index(messsage), output))\n",
    "            idxs.sort()\n",
    "            if idxs != list(range(min(idxs), max(idxs) + 1)):\n",
    "                continue\n",
    "            outputs.append(output)\n",
    "                          \n",
    "                          \n",
    "    # if len(outputs) >= 10:\n",
    "    #     break"
   ]
  },
  {
   "cell_type": "code",
   "execution_count": 223,
   "id": "72313a53-6271-4a84-b871-f96a2de9210a",
   "metadata": {},
   "outputs": [
    {
     "data": {
      "text/plain": [
       "37"
      ]
     },
     "execution_count": 223,
     "metadata": {},
     "output_type": "execute_result"
    }
   ],
   "source": [
    "len(outputs)"
   ]
  },
  {
   "cell_type": "code",
   "execution_count": 224,
   "id": "0908d86a-4478-4fed-a66c-cd1470a3a526",
   "metadata": {},
   "outputs": [],
   "source": [
    "for output in outputs:\n",
    "    m1, m2, m3 = output\n",
    "    assert m3.commit.record.createdAt - m1.commit.record.createdAt <= datetime.timedelta(seconds=10)\n",
    "    assert m1.did == m2.did == m3.did"
   ]
  },
  {
   "cell_type": "code",
   "execution_count": 230,
   "id": "41c847d2-0633-4e3e-a5c6-a056e486f03e",
   "metadata": {},
   "outputs": [],
   "source": [
    "other_outs = []\n",
    "with open('../../../../out.txt', 'r') as f:\n",
    "    other_outs = f.read().splitlines()"
   ]
  },
  {
   "cell_type": "code",
   "execution_count": 229,
   "id": "d376f31e-4746-4289-9113-c3de826cad84",
   "metadata": {},
   "outputs": [
    {
     "data": {
      "text/plain": [
       "37"
      ]
     },
     "execution_count": 229,
     "metadata": {},
     "output_type": "execute_result"
    }
   ],
   "source": [
    "other_outs = other_outs[7:]\n",
    "len(other_outs)"
   ]
  },
  {
   "cell_type": "markdown",
   "id": "7fa4ef9d-2e58-4c1e-953b-477c9fed02b3",
   "metadata": {},
   "source": [
    "# Quarantined Query 3 (10 second bounded wait)"
   ]
  },
  {
   "cell_type": "markdown",
   "id": "2c942ae1-9d3c-431c-8fe4-4518762bbac7",
   "metadata": {},
   "source": [
    "SELECT *\n",
    "\n",
    "FROM Bluesky\n",
    "\n",
    "WHERE CreatePost ; CreatePost ; (CreatePost OR CreateLike)\n",
    "\n",
    "PARTITION BY [did]\n",
    "\n",
    "WITHIN 10 SECONDS"
   ]
  },
  {
   "cell_type": "code",
   "execution_count": 271,
   "id": "bb30b0c8-9305-4062-827b-c468ba4571d3",
   "metadata": {},
   "outputs": [
    {
     "data": {
      "application/vnd.jupyter.widget-view+json": {
       "model_id": "13703d7ed0d2405abb3c115cb00dc4e0",
       "version_major": 2,
       "version_minor": 0
      },
      "text/plain": [
       "  0%|          | 0/18564 [00:00<?, ?it/s]"
      ]
     },
     "metadata": {},
     "output_type": "display_data"
    }
   ],
   "source": [
    "messages_by_did_in_window = defaultdict(list)\n",
    "outputs = []\n",
    "\n",
    "assert sorted(ordered_primary_time_models_with_quarantine, key=lambda model: model.commit.record.createdAt) == ordered_primary_time_models_with_quarantine, [model.commit.record.createdAt.strftime(\"%Y-%m-%d %H:%M:%S\") for model in ordered_primary_time_models_with_quarantine]\n",
    "\n",
    "for model in tqdm(ordered_primary_time_models_with_quarantine):\n",
    "    # time.sleep(0.001)\n",
    "    if model.commit.operation != \"create\":\n",
    "        continue\n",
    "    if model.commit.record.record_type not in [\"app.bsky.feed.post\", \"app.bsky.feed.like\"]:\n",
    "        continue\n",
    "    primary_time = model.commit.record.createdAt\n",
    "    did = model.did\n",
    "    while len(messages_by_did_in_window[did]) != 0 and (primary_time - messages_by_did_in_window[did][0].commit.record.createdAt) > datetime.timedelta(seconds=10):\n",
    "        messages_by_did_in_window[did].pop(0)\n",
    "            \n",
    "    messages_by_did_in_window[did].append(model)\n",
    "\n",
    "    assert sorted(messages_by_did_in_window[did], key=lambda model: model.commit.record.createdAt) == messages_by_did_in_window[did], [model.commit.record.createdAt.strftime(\"%Y-%m-%d %H:%M:%S\") for model in messages_by_did_in_window[did]]\n",
    "    \n",
    "    # output\n",
    "    if len(messages_by_did_in_window[did]) >= 3:\n",
    "        valid = messages_by_did_in_window[did][:-1][::-1]\n",
    "        for comb in combinations(valid, 2):\n",
    "            output = [*comb, model]\n",
    "            assert (output[-1].commit.record.createdAt - output[0].commit.record.createdAt) <= datetime.timedelta(seconds=10), f\"{(output[-1].commit.record.createdAt - output[0].commit.record.createdAt)}\"\n",
    "            if output[0].commit.record.record_type != \"app.bsky.feed.post\" or output[1].commit.record.record_type != \"app.bsky.feed.post\":\n",
    "                continue\n",
    "            outputs.append(output)\n",
    "                          \n",
    "                          \n",
    "    # if len(outputs) >= 10:\n",
    "    #     break"
   ]
  },
  {
   "cell_type": "code",
   "execution_count": 272,
   "id": "04ade6fa-85b9-4703-8d38-e71933109656",
   "metadata": {},
   "outputs": [
    {
     "data": {
      "text/plain": [
       "171"
      ]
     },
     "execution_count": 272,
     "metadata": {},
     "output_type": "execute_result"
    }
   ],
   "source": [
    "len(outputs)"
   ]
  },
  {
   "cell_type": "code",
   "execution_count": 273,
   "id": "1ccb0645-8eac-45ff-a240-9ade8b60f665",
   "metadata": {},
   "outputs": [],
   "source": [
    "for output in outputs:\n",
    "    m1, m2, m3 = output\n",
    "    assert m3.commit.record.createdAt - m1.commit.record.createdAt <= datetime.timedelta(seconds=10)\n",
    "    assert m1.did == m2.did == m3.did"
   ]
  },
  {
   "cell_type": "code",
   "execution_count": 274,
   "id": "c8376f64-1268-4699-93e5-0c6f64f9771d",
   "metadata": {},
   "outputs": [],
   "source": [
    "other_outs = []\n",
    "with open('../../../../out.txt', 'r') as f:\n",
    "    other_outs = f.read().splitlines()"
   ]
  },
  {
   "cell_type": "code",
   "execution_count": 275,
   "id": "d160dea9-5eb0-4b4b-b1df-c078c5caacca",
   "metadata": {},
   "outputs": [
    {
     "data": {
      "text/plain": [
       "171"
      ]
     },
     "execution_count": 275,
     "metadata": {},
     "output_type": "execute_result"
    }
   ],
   "source": [
    "other_outs = other_outs[7:]\n",
    "len(other_outs)"
   ]
  },
  {
   "cell_type": "markdown",
   "id": "9784c12a-9015-4f1d-9524-6ca87c2906b8",
   "metadata": {},
   "source": [
    "# Quarantined Query 4 (10 second bounded wait)"
   ]
  },
  {
   "cell_type": "markdown",
   "id": "270b5225-a8bf-4aa9-8259-2264dba2fb8e",
   "metadata": {},
   "source": [
    "SELECT *\n",
    "\n",
    "FROM Bluesky\n",
    "\n",
    "WHERE CreatePost : CreatePost : (CreatePost OR CreateLike)\n",
    "\n",
    "PARTITION BY [did]\n",
    "\n",
    "WITHIN 10 SECONDS"
   ]
  },
  {
   "cell_type": "code",
   "execution_count": 260,
   "id": "951536c5-a72a-4342-bb5d-bc9ce519e2ab",
   "metadata": {},
   "outputs": [
    {
     "data": {
      "application/vnd.jupyter.widget-view+json": {
       "model_id": "c6c511ed7f1349819deee848dfab4b95",
       "version_major": 2,
       "version_minor": 0
      },
      "text/plain": [
       "  0%|          | 0/18564 [00:00<?, ?it/s]"
      ]
     },
     "metadata": {},
     "output_type": "display_data"
    }
   ],
   "source": [
    "messages_by_did_in_window = defaultdict(list)\n",
    "outputs = []\n",
    "\n",
    "assert sorted(ordered_primary_time_models_with_quarantine, key=lambda model: model.commit.record.createdAt) == ordered_primary_time_models_with_quarantine, [model.commit.record.createdAt.strftime(\"%Y-%m-%d %H:%M:%S\") for model in ordered_primary_time_models_with_quarantine]\n",
    "\n",
    "for model in tqdm(ordered_primary_time_models_with_quarantine):\n",
    "    # time.sleep(0.001)\n",
    "    if model.commit.operation != \"create\":\n",
    "        continue\n",
    "    if model.commit.record.record_type not in [\"app.bsky.feed.post\", \"app.bsky.feed.like\"]:\n",
    "        continue\n",
    "    primary_time = model.commit.record.createdAt\n",
    "    did = model.did\n",
    "    while len(messages_by_did_in_window[did]) != 0 and (primary_time - messages_by_did_in_window[did][0].commit.record.createdAt) > datetime.timedelta(seconds=10):\n",
    "        messages_by_did_in_window[did].pop(0)\n",
    "            \n",
    "    messages_by_did_in_window[did].append(model)\n",
    "\n",
    "    assert sorted(messages_by_did_in_window[did], key=lambda model: model.commit.record.createdAt) == messages_by_did_in_window[did], [model.commit.record.createdAt.strftime(\"%Y-%m-%d %H:%M:%S\") for model in messages_by_did_in_window[did]]\n",
    "    \n",
    "    # output\n",
    "    if len(messages_by_did_in_window[did]) >= 3:\n",
    "        valid = messages_by_did_in_window[did][:-1][::-1]\n",
    "        for comb in combinations(valid, 2):\n",
    "            output = [*comb, model]\n",
    "            assert (output[-1].commit.record.createdAt - output[0].commit.record.createdAt) <= datetime.timedelta(seconds=10), f\"{(output[-1].commit.record.createdAt - output[0].commit.record.createdAt)}\"\n",
    "            idxs = list(map(lambda messsage: messages_by_did_in_window[did].index(messsage), output))\n",
    "            idxs.sort()\n",
    "            if idxs != list(range(min(idxs), max(idxs) + 1)):\n",
    "                continue\n",
    "            if output[0].commit.record.record_type != \"app.bsky.feed.post\" or output[1].commit.record.record_type != \"app.bsky.feed.post\":\n",
    "                continue\n",
    "            outputs.append(output)\n",
    "                          \n",
    "                          \n",
    "    # if len(outputs) >= 10:\n",
    "    #     break"
   ]
  },
  {
   "cell_type": "code",
   "execution_count": 261,
   "id": "7893ab19-89ee-4fd9-b6a0-65259fc996a9",
   "metadata": {},
   "outputs": [
    {
     "data": {
      "text/plain": [
       "38"
      ]
     },
     "execution_count": 261,
     "metadata": {},
     "output_type": "execute_result"
    }
   ],
   "source": [
    "len(outputs)"
   ]
  },
  {
   "cell_type": "code",
   "execution_count": 262,
   "id": "bfe4170b-40e5-4263-8156-e2a45b7b48e4",
   "metadata": {},
   "outputs": [],
   "source": [
    "for output in outputs:\n",
    "    m1, m2, m3 = output\n",
    "    assert m3.commit.record.createdAt - m1.commit.record.createdAt <= datetime.timedelta(seconds=10)\n",
    "    assert m1.did == m2.did == m3.did"
   ]
  },
  {
   "cell_type": "code",
   "execution_count": 263,
   "id": "d5d56809-d475-4bf6-a289-e1eff5db7896",
   "metadata": {},
   "outputs": [],
   "source": [
    "other_outs = []\n",
    "with open('../../../../out.txt', 'r') as f:\n",
    "    other_outs = f.read().splitlines()"
   ]
  },
  {
   "cell_type": "code",
   "execution_count": 264,
   "id": "f9a028a7-ecbd-4dfa-974c-0dbe2ab38d59",
   "metadata": {},
   "outputs": [
    {
     "data": {
      "text/plain": [
       "38"
      ]
     },
     "execution_count": 264,
     "metadata": {},
     "output_type": "execute_result"
    }
   ],
   "source": [
    "other_outs = other_outs[7:]\n",
    "len(other_outs)"
   ]
  },
  {
   "cell_type": "markdown",
   "id": "1f7183c9-a476-4607-9cf6-5f9034f6df4a",
   "metadata": {},
   "source": [
    "# DEBUG"
   ]
  },
  {
   "cell_type": "code",
   "execution_count": 276,
   "id": "3b9bf1ae-7e76-4f34-953e-f0f5e2ef46b8",
   "metadata": {},
   "outputs": [],
   "source": [
    "dids = set()\n",
    "for output in outputs:\n",
    "    dids.add(output[0].did)"
   ]
  },
  {
   "cell_type": "code",
   "execution_count": 277,
   "id": "9e63d662-f47d-4e89-875f-793b6cb6864b",
   "metadata": {},
   "outputs": [],
   "source": [
    "other_filtered = defaultdict(list)\n",
    "for did in dids:\n",
    "    for other_out in other_outs:\n",
    "        if did in other_out:\n",
    "            other_filtered[did].append(other_out)"
   ]
  },
  {
   "cell_type": "code",
   "execution_count": 278,
   "id": "49d26345-7d47-4b57-acad-a8cb4a24d9bd",
   "metadata": {},
   "outputs": [
    {
     "data": {
      "text/plain": [
       "dict_keys(['did:plc:hrerjtl6cy24eellqmrdbl7h', 'did:plc:qk3fxv4s4ifs5fbgh4odv3b7', 'did:plc:p467xcx65s6aedpkzdocj52o', 'did:plc:4k3g3hazhzvdx5v35pg5x2ve', 'did:plc:duaatzbzy7qm4ppl2hluilpg', 'did:plc:o6ggjvnj4ze3mnrpnv5oravg', 'did:plc:layutr5agle2nkpntyykph7z', 'did:plc:paj6ipalc3udmxlestdq7qfd', 'did:plc:vgpa562ktrs7c3qnwlise3c7', 'did:plc:cni7pf6kpddowzq6ndlohm64', 'did:plc:yvl3tawvgtw7v5zv42zu6r65'])"
      ]
     },
     "execution_count": 278,
     "metadata": {},
     "output_type": "execute_result"
    }
   ],
   "source": [
    "other_filtered.keys()"
   ]
  },
  {
   "cell_type": "code",
   "execution_count": 279,
   "id": "ab9c6e16-b24f-4cdc-9204-f34d477bc46c",
   "metadata": {},
   "outputs": [],
   "source": [
    "filtered = defaultdict(list)\n",
    "for did in dids:\n",
    "    for out in outputs:\n",
    "        if out[0].did == did:\n",
    "            filtered[did].append(out)"
   ]
  },
  {
   "cell_type": "code",
   "execution_count": 280,
   "id": "b7e7b86b-bd36-4223-9b10-a3a582eb53d9",
   "metadata": {},
   "outputs": [
    {
     "data": {
      "text/plain": [
       "dict_keys(['did:plc:hrerjtl6cy24eellqmrdbl7h', 'did:plc:qk3fxv4s4ifs5fbgh4odv3b7', 'did:plc:p467xcx65s6aedpkzdocj52o', 'did:plc:4k3g3hazhzvdx5v35pg5x2ve', 'did:plc:duaatzbzy7qm4ppl2hluilpg', 'did:plc:o6ggjvnj4ze3mnrpnv5oravg', 'did:plc:layutr5agle2nkpntyykph7z', 'did:plc:paj6ipalc3udmxlestdq7qfd', 'did:plc:vgpa562ktrs7c3qnwlise3c7', 'did:plc:cni7pf6kpddowzq6ndlohm64', 'did:plc:yvl3tawvgtw7v5zv42zu6r65'])"
      ]
     },
     "execution_count": 280,
     "metadata": {},
     "output_type": "execute_result"
    }
   ],
   "source": [
    "filtered.keys()"
   ]
  },
  {
   "cell_type": "code",
   "execution_count": 281,
   "id": "0ed11630-4060-4e91-aa8a-e13db516bdfc",
   "metadata": {},
   "outputs": [
    {
     "name": "stdout",
     "output_type": "stream",
     "text": [
      "did: did:plc:hrerjtl6cy24eellqmrdbl7h\n",
      "Len in other_filtered: 84\n",
      "Len in filtered: 84\n",
      "did: did:plc:qk3fxv4s4ifs5fbgh4odv3b7\n",
      "Len in other_filtered: 3\n",
      "Len in filtered: 3\n",
      "did: did:plc:p467xcx65s6aedpkzdocj52o\n",
      "Len in other_filtered: 3\n",
      "Len in filtered: 3\n",
      "did: did:plc:4k3g3hazhzvdx5v35pg5x2ve\n",
      "Len in other_filtered: 6\n",
      "Len in filtered: 6\n",
      "did: did:plc:duaatzbzy7qm4ppl2hluilpg\n",
      "Len in other_filtered: 4\n",
      "Len in filtered: 4\n",
      "did: did:plc:o6ggjvnj4ze3mnrpnv5oravg\n",
      "Len in other_filtered: 8\n",
      "Len in filtered: 8\n",
      "did: did:plc:layutr5agle2nkpntyykph7z\n",
      "Len in other_filtered: 56\n",
      "Len in filtered: 56\n",
      "did: did:plc:paj6ipalc3udmxlestdq7qfd\n",
      "Len in other_filtered: 1\n",
      "Len in filtered: 1\n",
      "did: did:plc:vgpa562ktrs7c3qnwlise3c7\n",
      "Len in other_filtered: 1\n",
      "Len in filtered: 1\n",
      "did: did:plc:cni7pf6kpddowzq6ndlohm64\n",
      "Len in other_filtered: 4\n",
      "Len in filtered: 4\n",
      "did: did:plc:yvl3tawvgtw7v5zv42zu6r65\n",
      "Len in other_filtered: 1\n",
      "Len in filtered: 1\n"
     ]
    }
   ],
   "source": [
    "for did in dids:\n",
    "    print(\"did: \", did, sep=\"\")\n",
    "    print(\"Len in other_filtered: \", len(other_filtered[did]), sep=\"\")\n",
    "    print(\"Len in filtered: \", len(filtered[did]), sep=\"\")"
   ]
  },
  {
   "cell_type": "code",
   "execution_count": null,
   "id": "01bb1387-ba6c-4901-9e2f-b485f2763e1f",
   "metadata": {},
   "outputs": [],
   "source": []
  }
 ],
 "metadata": {
  "kernelspec": {
   "display_name": "Python 3 (ipykernel)",
   "language": "python",
   "name": "python3"
  },
  "language_info": {
   "codemirror_mode": {
    "name": "ipython",
    "version": 3
   },
   "file_extension": ".py",
   "mimetype": "text/x-python",
   "name": "python",
   "nbconvert_exporter": "python",
   "pygments_lexer": "ipython3",
   "version": "3.13.7"
  }
 },
 "nbformat": 4,
 "nbformat_minor": 5
}
